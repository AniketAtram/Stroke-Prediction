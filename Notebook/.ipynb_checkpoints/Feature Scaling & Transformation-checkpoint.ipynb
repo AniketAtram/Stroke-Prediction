{
 "cells": [
  {
   "cell_type": "code",
   "execution_count": 1,
   "id": "ddad654f",
   "metadata": {},
   "outputs": [],
   "source": [
    "import numpy as np\n",
    "import pandas as pd\n",
    "from sklearn.preprocessing import StandardScaler\n",
    "from sklearn.preprocessing import OneHotEncoder\n",
    "from sklearn.preprocessing import LabelEncoder\n",
    "import warnings\n",
    "warnings.filterwarnings('ignore')"
   ]
  },
  {
   "cell_type": "code",
   "execution_count": 2,
   "id": "37d81e43",
   "metadata": {},
   "outputs": [],
   "source": [
    "df = pd.read_csv(\"../Data/train.csv\")"
   ]
  },
  {
   "cell_type": "code",
   "execution_count": 3,
   "id": "c072643b",
   "metadata": {},
   "outputs": [
    {
     "data": {
      "text/html": [
       "<div>\n",
       "<style scoped>\n",
       "    .dataframe tbody tr th:only-of-type {\n",
       "        vertical-align: middle;\n",
       "    }\n",
       "\n",
       "    .dataframe tbody tr th {\n",
       "        vertical-align: top;\n",
       "    }\n",
       "\n",
       "    .dataframe thead th {\n",
       "        text-align: right;\n",
       "    }\n",
       "</style>\n",
       "<table border=\"1\" class=\"dataframe\">\n",
       "  <thead>\n",
       "    <tr style=\"text-align: right;\">\n",
       "      <th></th>\n",
       "      <th>gender</th>\n",
       "      <th>age</th>\n",
       "      <th>hypertension</th>\n",
       "      <th>heart_disease</th>\n",
       "      <th>ever_married</th>\n",
       "      <th>work_type</th>\n",
       "      <th>Residence_type</th>\n",
       "      <th>avg_glucose_level</th>\n",
       "      <th>bmi</th>\n",
       "      <th>smoking_status</th>\n",
       "      <th>stroke</th>\n",
       "    </tr>\n",
       "  </thead>\n",
       "  <tbody>\n",
       "    <tr>\n",
       "      <th>0</th>\n",
       "      <td>Male</td>\n",
       "      <td>79.0</td>\n",
       "      <td>0</td>\n",
       "      <td>0</td>\n",
       "      <td>Yes</td>\n",
       "      <td>Self-employed</td>\n",
       "      <td>Rural</td>\n",
       "      <td>112.64</td>\n",
       "      <td>28.5</td>\n",
       "      <td>formerly smoked</td>\n",
       "      <td>0</td>\n",
       "    </tr>\n",
       "    <tr>\n",
       "      <th>1</th>\n",
       "      <td>Female</td>\n",
       "      <td>62.0</td>\n",
       "      <td>0</td>\n",
       "      <td>0</td>\n",
       "      <td>Yes</td>\n",
       "      <td>Private</td>\n",
       "      <td>Urban</td>\n",
       "      <td>88.32</td>\n",
       "      <td>36.3</td>\n",
       "      <td>Unknown</td>\n",
       "      <td>0</td>\n",
       "    </tr>\n",
       "    <tr>\n",
       "      <th>2</th>\n",
       "      <td>Female</td>\n",
       "      <td>21.0</td>\n",
       "      <td>0</td>\n",
       "      <td>0</td>\n",
       "      <td>No</td>\n",
       "      <td>Private</td>\n",
       "      <td>Rural</td>\n",
       "      <td>59.52</td>\n",
       "      <td>33.7</td>\n",
       "      <td>never smoked</td>\n",
       "      <td>0</td>\n",
       "    </tr>\n",
       "    <tr>\n",
       "      <th>3</th>\n",
       "      <td>Male</td>\n",
       "      <td>31.0</td>\n",
       "      <td>0</td>\n",
       "      <td>0</td>\n",
       "      <td>Yes</td>\n",
       "      <td>Govt_job</td>\n",
       "      <td>Urban</td>\n",
       "      <td>65.70</td>\n",
       "      <td>30.4</td>\n",
       "      <td>formerly smoked</td>\n",
       "      <td>0</td>\n",
       "    </tr>\n",
       "    <tr>\n",
       "      <th>4</th>\n",
       "      <td>Female</td>\n",
       "      <td>31.0</td>\n",
       "      <td>0</td>\n",
       "      <td>0</td>\n",
       "      <td>No</td>\n",
       "      <td>Private</td>\n",
       "      <td>Rural</td>\n",
       "      <td>59.63</td>\n",
       "      <td>19.9</td>\n",
       "      <td>never smoked</td>\n",
       "      <td>0</td>\n",
       "    </tr>\n",
       "  </tbody>\n",
       "</table>\n",
       "</div>"
      ],
      "text/plain": [
       "   gender   age  hypertension  heart_disease ever_married      work_type  \\\n",
       "0    Male  79.0             0              0          Yes  Self-employed   \n",
       "1  Female  62.0             0              0          Yes        Private   \n",
       "2  Female  21.0             0              0           No        Private   \n",
       "3    Male  31.0             0              0          Yes       Govt_job   \n",
       "4  Female  31.0             0              0           No        Private   \n",
       "\n",
       "  Residence_type  avg_glucose_level   bmi   smoking_status  stroke  \n",
       "0          Rural             112.64  28.5  formerly smoked       0  \n",
       "1          Urban              88.32  36.3          Unknown       0  \n",
       "2          Rural              59.52  33.7     never smoked       0  \n",
       "3          Urban              65.70  30.4  formerly smoked       0  \n",
       "4          Rural              59.63  19.9     never smoked       0  "
      ]
     },
     "execution_count": 3,
     "metadata": {},
     "output_type": "execute_result"
    }
   ],
   "source": [
    "df.head()"
   ]
  },
  {
   "cell_type": "code",
   "execution_count": 4,
   "id": "f4eebed0",
   "metadata": {},
   "outputs": [],
   "source": [
    "# TODO : To create a helper function for label encoding\n",
    "def apply_label_encoding(dfrm):\n",
    "    '''This function takes dataframe as input,\n",
    "    Checks if it is already encoded, if not encodes the feature\n",
    "    and returns a dataframe with encoded values'''\n",
    "    binary_columns = [feat for feat in dfrm.columns if dfrm[feat].nunique() == 2 and str(dfrm[feat].dtype) != \"int64\"]\n",
    "    le = LabelEncoder()\n",
    "    for i in binary_columns:\n",
    "        dfrm[i] = le.fit_transform(dfrm[i])\n",
    "    return dfrm"
   ]
  },
  {
   "cell_type": "code",
   "execution_count": 5,
   "id": "a08f3928",
   "metadata": {},
   "outputs": [],
   "source": [
    "# TODO : To create a helper function for OneHotEncoding\n",
    "def apply_OneHotEncoding(dfrm):\n",
    "    '''This function select the non binary features and applies\n",
    "    OneHotEncoding to the features. It drops the firest values of \n",
    "    encoded features to avoid dummy variable trap.'''\n",
    "    # select the non binary columns\n",
    "    one_hot_cols = [feat for feat in dfrm.columns if dfrm[feat].nunique() > 2 and str(dfrm[feat].dtype) == 'object']\n",
    "    # create an istance of one hot encoding, drop first value to avoid dummy variable trap, and set \"saparse\" value to False\n",
    "    one = OneHotEncoder(drop=\"first\", dtype=int, sparse=False)\n",
    "    # slice the dataframe and chose the features to apply one hot encoding\n",
    "    to_enc = dfrm[one_hot_cols]\n",
    "    # fit and transform the features\n",
    "    one.fit(to_enc)\n",
    "    encoded = one.transform(to_enc)\n",
    "    # get the name of the column\n",
    "    cols = [name[3:] for name in list(one.get_feature_names())]\n",
    "    # add the feature name and it's subsequent values to the dataframe\n",
    "    dfrm[cols] = encoded\n",
    "    # drop the original columns and return the new dataframe\n",
    "    dfrm.drop(one_hot_cols, axis=1, inplace=True)\n",
    "    return dfrm"
   ]
  },
  {
   "cell_type": "code",
   "execution_count": 6,
   "id": "4178a957",
   "metadata": {},
   "outputs": [],
   "source": [
    "# TODO : To Create a helper function for scaling \n",
    "def apply_scaling(train, test):\n",
    "    '''This function select the numerical columns and applies scaling.\n",
    "    NOTE : It takes two dataframes, applies fit method on train data,\n",
    "    and apply transform to both train and test data'''\n",
    "    # select the numerical columns\n",
    "    scale_cols = [feat for feat in train.columns if str(train[feat].dtype) == \"float64\"]\n",
    "    # create an instance of standard scaler\n",
    "    scaler = StandardScaler()\n",
    "    # slice the dataframe to apply feature scaling\n",
    "    train_scale = train[scale_cols]\n",
    "    test_scale = test[scale_cols]\n",
    "    # fit the scaler to subset\n",
    "    scaler.fit(train_scale)\n",
    "    train_scaled = scaler.transform(train_scale)\n",
    "    # apply tranformation to test data\n",
    "    test_scaled = scaler.transform(test_scale)\n",
    "    # save the scaled values and return the dataframe\n",
    "    train[scale_cols] = train_scaled\n",
    "    test[scale_cols] = test_scaled\n",
    "    return train, test"
   ]
  },
  {
   "cell_type": "code",
   "execution_count": 7,
   "id": "604de8b3",
   "metadata": {},
   "outputs": [],
   "source": [
    "# TODO : Split the dataset into training and testing\n",
    "from sklearn.model_selection import train_test_split\n",
    "X = df.iloc[:, :-1]\n",
    "y = df.iloc[:, -1]\n",
    "X_train, X_test, y_train, y_test = train_test_split(X, y, test_size=0.30, random_state=42, shuffle=True)"
   ]
  },
  {
   "cell_type": "code",
   "execution_count": 8,
   "id": "01f82b18",
   "metadata": {},
   "outputs": [],
   "source": [
    "# TODO : Apply scaling and encoding to features\n",
    "X_train, X_test = apply_scaling(X_train, X_test)\n",
    "X_train = apply_label_encoding(X_train)\n",
    "X_test = apply_label_encoding(X_test)\n",
    "X_train = apply_OneHotEncoding(X_train)\n",
    "X_test = apply_OneHotEncoding(X_test)"
   ]
  },
  {
   "cell_type": "code",
   "execution_count": 148,
   "id": "0bce633e",
   "metadata": {},
   "outputs": [],
   "source": [
    "# TODO : Handle imbalance in data using oversampling technique\n",
    "from imblearn.over_sampling import ADASYN\n",
    "from imblearn.under_sampling import RandomUnderSampler\n",
    "from imblearn.pipeline import Pipeline\n",
    "oversample = ADASYN(sampling_strategy = 0.6, random_state=42)\n",
    "undersample = RandomUnderSampler(sampling_strategy = 0.8, random_state=42)\n",
    "steps = [('o', oversample), ('u', undersample)]\n",
    "pipe = Pipeline(steps=steps)"
   ]
  },
  {
   "cell_type": "code",
   "execution_count": 152,
   "id": "ef26c9ba",
   "metadata": {},
   "outputs": [
    {
     "name": "stdout",
     "output_type": "stream",
     "text": [
      "Before oversampling: Counter({0: 2639, 1: 113})\n",
      "After oversampling: Counter({0: 2639, 1: 1575})\n",
      "After undersampling: Counter({0: 1968, 1: 1575})\n"
     ]
    }
   ],
   "source": [
    "from collections import Counter\n",
    "\n",
    "print(f\"Before oversampling: {Counter(y_train)}\")\n",
    "X_train_res, y_train_res = oversample.fit_resample(X_train, y_train)\n",
    "print(f\"After oversampling: {Counter(y_train_res)}\")\n",
    "X_train_res, y_train_res = undersample.fit_resample(X_train_res, y_train_res)\n",
    "print(f\"After undersampling: {Counter(y_train_res)}\")"
   ]
  },
  {
   "cell_type": "code",
   "execution_count": 155,
   "id": "8b3733f2",
   "metadata": {},
   "outputs": [],
   "source": [
    "# TODO : Save the scaled and transformed data as \".csv\" file in \"Data\" directory\n",
    "X_train.to_csv(\"../Data/X_train.csv\")\n",
    "X_train_res.to_csv(\"../Data/X_train_res.csv\")\n",
    "X_test.to_csv(\"../Data/X_test.csv\")\n",
    "y_train.to_csv(\"../Data/y_train.csv\")\n",
    "y_train_res.to_csv(\"../Data/y_train_res.csv\")\n",
    "y_test.to_csv(\"../Data/y_test.csv\")"
   ]
  },
  {
   "cell_type": "code",
   "execution_count": null,
   "id": "ef54bc32",
   "metadata": {},
   "outputs": [],
   "source": [
    "# END"
   ]
  }
 ],
 "metadata": {
  "kernelspec": {
   "display_name": "Python 3",
   "language": "python",
   "name": "python3"
  },
  "language_info": {
   "codemirror_mode": {
    "name": "ipython",
    "version": 3
   },
   "file_extension": ".py",
   "mimetype": "text/x-python",
   "name": "python",
   "nbconvert_exporter": "python",
   "pygments_lexer": "ipython3",
   "version": "3.7.10"
  }
 },
 "nbformat": 4,
 "nbformat_minor": 5
}
