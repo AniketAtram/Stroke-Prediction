{
 "cells": [
  {
   "cell_type": "markdown",
   "id": "75f3e6b0",
   "metadata": {},
   "source": [
    "# AIM : To train the model with optimized parameters"
   ]
  },
  {
   "cell_type": "code",
   "execution_count": 99,
   "id": "953fd24b",
   "metadata": {},
   "outputs": [],
   "source": [
    "# TODO: MAKE NECESSARY IMPORTS\n",
    "import numpy as np\n",
    "import pandas as pd\n",
    "from matplotlib import pyplot as plt\n",
    "from sklearn.neighbors import KNeighborsClassifier\n",
    "from sklearn.ensemble import RandomForestClassifier\n",
    "from sklearn.svm import SVC\n",
    "from sklearn.linear_model import LogisticRegression\n",
    "from sklearn.metrics import classification_report, plot_roc_curve, plot_confusion_matrix\n",
    "from sklearn.model_selection import GridSearchCV\n",
    "import warnings\n",
    "warnings.filterwarnings(\"ignore\")"
   ]
  },
  {
   "cell_type": "code",
   "execution_count": 119,
   "id": "77bb56f7",
   "metadata": {},
   "outputs": [],
   "source": [
    "# TODO: CREATE AN INSTANCE OF CLASSIFIERS\n",
    "KNN = KNeighborsClassifier(n_jobs=-1)\n",
    "SVM = SVC(probability=True, random_state=42)\n",
    "RFC = RandomForestClassifier(n_jobs=-1)\n",
    "LOG = LogisticRegression(n_jobs=-1, solver=\"saga\")"
   ]
  },
  {
   "cell_type": "code",
   "execution_count": 10,
   "id": "bf2645f5",
   "metadata": {},
   "outputs": [],
   "source": [
    "# TODO: IMPORT THE DATASETS\n",
    "X_train = pd.read_csv(\"../Data/X_train_res.csv\")\n",
    "X_test = pd.read_csv(\"../Data/X_test.csv\")\n",
    "y_train = pd.read_csv(\"../Data/y_train_res.csv\")\n",
    "y_test = pd.read_csv(\"../Data/y_test.csv\")"
   ]
  },
  {
   "cell_type": "code",
   "execution_count": 18,
   "id": "047034c8",
   "metadata": {},
   "outputs": [],
   "source": [
    "# TODO: SELECT THE OPTIMAL FEATURES\n",
    "opt_features = ['age',\n",
    "               'hypertension',\n",
    "               'heart_disease',\n",
    "               'Residence_type',\n",
    "               'avg_glucose_level',\n",
    "               'bmi',\n",
    "               'Self-employed',\n",
    "               'formerly smoked',\n",
    "               'never smoked',\n",
    "               'smokes']\n",
    "X_train = X_train[opt_features]\n",
    "X_test = X_test[opt_features]"
   ]
  },
  {
   "cell_type": "markdown",
   "id": "1067866c",
   "metadata": {},
   "source": [
    "- These are the features selected using Sequential Feature Selection"
   ]
  },
  {
   "cell_type": "code",
   "execution_count": 20,
   "id": "d55f65ed",
   "metadata": {},
   "outputs": [
    {
     "data": {
      "text/html": [
       "<div>\n",
       "<style scoped>\n",
       "    .dataframe tbody tr th:only-of-type {\n",
       "        vertical-align: middle;\n",
       "    }\n",
       "\n",
       "    .dataframe tbody tr th {\n",
       "        vertical-align: top;\n",
       "    }\n",
       "\n",
       "    .dataframe thead th {\n",
       "        text-align: right;\n",
       "    }\n",
       "</style>\n",
       "<table border=\"1\" class=\"dataframe\">\n",
       "  <thead>\n",
       "    <tr style=\"text-align: right;\">\n",
       "      <th></th>\n",
       "      <th>age</th>\n",
       "      <th>hypertension</th>\n",
       "      <th>heart_disease</th>\n",
       "      <th>Residence_type</th>\n",
       "      <th>avg_glucose_level</th>\n",
       "      <th>bmi</th>\n",
       "      <th>Self-employed</th>\n",
       "      <th>formerly smoked</th>\n",
       "      <th>never smoked</th>\n",
       "      <th>smokes</th>\n",
       "    </tr>\n",
       "  </thead>\n",
       "  <tbody>\n",
       "    <tr>\n",
       "      <th>0</th>\n",
       "      <td>1.733845</td>\n",
       "      <td>1</td>\n",
       "      <td>0</td>\n",
       "      <td>0</td>\n",
       "      <td>-0.989938</td>\n",
       "      <td>-0.775637</td>\n",
       "      <td>0</td>\n",
       "      <td>0</td>\n",
       "      <td>1</td>\n",
       "      <td>0</td>\n",
       "    </tr>\n",
       "    <tr>\n",
       "      <th>1</th>\n",
       "      <td>1.153296</td>\n",
       "      <td>0</td>\n",
       "      <td>0</td>\n",
       "      <td>0</td>\n",
       "      <td>2.699503</td>\n",
       "      <td>1.025293</td>\n",
       "      <td>1</td>\n",
       "      <td>0</td>\n",
       "      <td>1</td>\n",
       "      <td>0</td>\n",
       "    </tr>\n",
       "    <tr>\n",
       "      <th>2</th>\n",
       "      <td>0.483432</td>\n",
       "      <td>0</td>\n",
       "      <td>0</td>\n",
       "      <td>1</td>\n",
       "      <td>2.301763</td>\n",
       "      <td>1.243978</td>\n",
       "      <td>0</td>\n",
       "      <td>0</td>\n",
       "      <td>1</td>\n",
       "      <td>0</td>\n",
       "    </tr>\n",
       "    <tr>\n",
       "      <th>3</th>\n",
       "      <td>0.349459</td>\n",
       "      <td>0</td>\n",
       "      <td>0</td>\n",
       "      <td>0</td>\n",
       "      <td>0.003512</td>\n",
       "      <td>0.497878</td>\n",
       "      <td>0</td>\n",
       "      <td>0</td>\n",
       "      <td>1</td>\n",
       "      <td>0</td>\n",
       "    </tr>\n",
       "    <tr>\n",
       "      <th>4</th>\n",
       "      <td>-1.704791</td>\n",
       "      <td>0</td>\n",
       "      <td>0</td>\n",
       "      <td>0</td>\n",
       "      <td>-0.690283</td>\n",
       "      <td>-1.225869</td>\n",
       "      <td>0</td>\n",
       "      <td>0</td>\n",
       "      <td>0</td>\n",
       "      <td>0</td>\n",
       "    </tr>\n",
       "  </tbody>\n",
       "</table>\n",
       "</div>"
      ],
      "text/plain": [
       "        age  hypertension  heart_disease  Residence_type  avg_glucose_level  \\\n",
       "0  1.733845             1              0               0          -0.989938   \n",
       "1  1.153296             0              0               0           2.699503   \n",
       "2  0.483432             0              0               1           2.301763   \n",
       "3  0.349459             0              0               0           0.003512   \n",
       "4 -1.704791             0              0               0          -0.690283   \n",
       "\n",
       "        bmi  Self-employed  formerly smoked  never smoked  smokes  \n",
       "0 -0.775637              0                0             1       0  \n",
       "1  1.025293              1                0             1       0  \n",
       "2  1.243978              0                0             1       0  \n",
       "3  0.497878              0                0             1       0  \n",
       "4 -1.225869              0                0             0       0  "
      ]
     },
     "execution_count": 20,
     "metadata": {},
     "output_type": "execute_result"
    }
   ],
   "source": [
    "X_train.head(5)"
   ]
  },
  {
   "cell_type": "code",
   "execution_count": 95,
   "id": "d3cb29fa",
   "metadata": {},
   "outputs": [],
   "source": [
    "# Helper function for plotting\n",
    "def plot_graphs(clf,test_x, test_y, name):\n",
    "    fig, ax = plt.subplots(nrows=1, ncols=2, figsize=(12,6))\n",
    "    ax[0].set_title(f\"Confusion Matrix for {name}\")\n",
    "    ax[1].set_title(\"ROC/AUC\")\n",
    "    plot_confusion_matrix(clf, X_test, y_test, colorbar=False, ax=ax[0])\n",
    "    plot_roc_curve(clf, X_test, y_test, ax=ax[1])"
   ]
  },
  {
   "cell_type": "markdown",
   "id": "7ff794fd",
   "metadata": {},
   "source": [
    "---"
   ]
  },
  {
   "cell_type": "markdown",
   "id": "ffddf0ed",
   "metadata": {},
   "source": [
    "# Training"
   ]
  },
  {
   "cell_type": "markdown",
   "id": "0cea48f6",
   "metadata": {},
   "source": [
    "## K-NEIGHBORS CLASSIFIER"
   ]
  },
  {
   "cell_type": "markdown",
   "id": "315d0f80",
   "metadata": {},
   "source": [
    "### Best Parameters"
   ]
  },
  {
   "cell_type": "code",
   "execution_count": 109,
   "id": "0f81a39c",
   "metadata": {},
   "outputs": [
    {
     "data": {
      "text/plain": [
       "{'n_neighbors': 5}"
      ]
     },
     "execution_count": 109,
     "metadata": {},
     "output_type": "execute_result"
    }
   ],
   "source": [
    "knn_params = {'n_neighbors': [5, 6, 7, 8, 9, 10]}\n",
    "knn_grid = GridSearchCV(estimator=KNN, param_grid=knn_params, cv=10, scoring=\"roc_auc\", n_jobs=-1)\n",
    "knn_grid.fit(X_train, y_train)\n",
    "knn_grid.best_params_"
   ]
  },
  {
   "cell_type": "markdown",
   "id": "cc490365",
   "metadata": {},
   "source": [
    "### Training with best parameters"
   ]
  },
  {
   "cell_type": "code",
   "execution_count": 110,
   "id": "6ddbb62d",
   "metadata": {},
   "outputs": [
    {
     "name": "stdout",
     "output_type": "stream",
     "text": [
      "              precision    recall  f1-score   support\n",
      "\n",
      "           0       0.82      0.97      0.89       952\n",
      "           1       0.43      0.08      0.14       228\n",
      "\n",
      "    accuracy                           0.80      1180\n",
      "   macro avg       0.62      0.53      0.51      1180\n",
      "weighted avg       0.74      0.80      0.74      1180\n",
      "\n"
     ]
    }
   ],
   "source": [
    "KNN = KNeighborsClassifier(n_neighbors=5)\n",
    "KNN.fit(X_train, y_train)\n",
    "y_hat = KNN.predict(X_test)\n",
    "print(classification_report(y_hat, y_test))"
   ]
  },
  {
   "cell_type": "markdown",
   "id": "539e4a5d",
   "metadata": {},
   "source": [
    "### Model Performance"
   ]
  },
  {
   "cell_type": "code",
   "execution_count": 111,
   "id": "e555887b",
   "metadata": {},
   "outputs": [
    {
     "data": {
      "image/png": "[encoded data removed]",
      "text/plain": [
       "<Figure size 864x432 with 2 Axes>"
      ]
     },
     "metadata": {
      "needs_background": "light"
     },
     "output_type": "display_data"
    }
   ],
   "source": [
    "plot_graphs(KNN, X_test, y_test, \"KNN\")"
   ]
  },
  {
   "cell_type": "markdown",
   "id": "442fb6b3",
   "metadata": {},
   "source": [
    "---"
   ]
  },
  {
   "cell_type": "markdown",
   "id": "ed1d86f7",
   "metadata": {},
   "source": [
    "## SUPPORT VECTOR CLASSIFIER"
   ]
  },
  {
   "cell_type": "markdown",
   "id": "72dc9fcb",
   "metadata": {},
   "source": [
    "### Best Parameters"
   ]
  },
  {
   "cell_type": "code",
   "execution_count": 106,
   "id": "e501092b",
   "metadata": {},
   "outputs": [],
   "source": [
    "svm_params = {\n",
    "    \"C\" : [0.001, 0.01, 0.1, 1.0],\n",
    "    \"kernel\" : ['poly', 'rbf', 'sigmoid']\n",
    "}"
   ]
  },
  {
   "cell_type": "code",
   "execution_count": 108,
   "id": "0616ba22",
   "metadata": {},
   "outputs": [
    {
     "data": {
      "text/plain": [
       "{'C': 1.0, 'kernel': 'rbf'}"
      ]
     },
     "execution_count": 108,
     "metadata": {},
     "output_type": "execute_result"
    }
   ],
   "source": [
    "svm_grid = GridSearchCV(estimator=SVM, param_grid=svm_params, cv=10, scoring=\"roc_auc\", n_jobs=-1)\n",
    "svm_grid.fit(X_train, y_train)\n",
    "svm_grid.best_params_"
   ]
  },
  {
   "cell_type": "markdown",
   "id": "c0999aa0",
   "metadata": {},
   "source": [
    "### Training with best parameters"
   ]
  },
  {
   "cell_type": "code",
   "execution_count": 112,
   "id": "17652fd2",
   "metadata": {},
   "outputs": [
    {
     "name": "stdout",
     "output_type": "stream",
     "text": [
      "              precision    recall  f1-score   support\n",
      "\n",
      "           0       0.83      0.97      0.90       975\n",
      "           1       0.39      0.08      0.14       205\n",
      "\n",
      "    accuracy                           0.82      1180\n",
      "   macro avg       0.61      0.53      0.52      1180\n",
      "weighted avg       0.76      0.82      0.77      1180\n",
      "\n"
     ]
    }
   ],
   "source": [
    "SVM = SVC(probability=True, random_state=42)\n",
    "SVM.fit(X_train, y_train)\n",
    "y_hat = SVM.predict(X_test)\n",
    "print(classification_report(y_hat, y_test))"
   ]
  },
  {
   "cell_type": "markdown",
   "id": "49bc25af",
   "metadata": {},
   "source": [
    "### Model Performance"
   ]
  },
  {
   "cell_type": "code",
   "execution_count": 113,
   "id": "fff7a57d",
   "metadata": {
    "scrolled": false
   },
   "outputs": [
    {
     "data": {
      "image/png": "[encoded data removed]",
      "text/plain": [
       "<Figure size 864x432 with 2 Axes>"
      ]
     },
     "metadata": {
      "needs_background": "light"
     },
     "output_type": "display_data"
    }
   ],
   "source": [
    "plot_graphs(SVM, X_test, y_test, \"SVM\")"
   ]
  },
  {
   "cell_type": "markdown",
   "id": "33829d5e",
   "metadata": {},
   "source": [
    "---"
   ]
  },
  {
   "cell_type": "markdown",
   "id": "0f8ce8ca",
   "metadata": {},
   "source": [
    "## LOGISTIC RERESSION"
   ]
  },
  {
   "cell_type": "code",
   "execution_count": 120,
   "id": "8f53ff0d",
   "metadata": {},
   "outputs": [
    {
     "name": "stdout",
     "output_type": "stream",
     "text": [
      "              precision    recall  f1-score   support\n",
      "\n",
      "           0       0.79      0.98      0.87       910\n",
      "           1       0.61      0.10      0.17       270\n",
      "\n",
      "    accuracy                           0.78      1180\n",
      "   macro avg       0.70      0.54      0.52      1180\n",
      "weighted avg       0.75      0.78      0.71      1180\n",
      "\n"
     ]
    }
   ],
   "source": [
    "LOG.fit(X_train, y_train)\n",
    "y_hat = LOG.predict(X_test)\n",
    "print(classification_report(y_hat, y_test))"
   ]
  },
  {
   "cell_type": "markdown",
   "id": "ea6bc351",
   "metadata": {},
   "source": [
    "### Model Performance"
   ]
  },
  {
   "cell_type": "code",
   "execution_count": 123,
   "id": "4092dd5b",
   "metadata": {},
   "outputs": [
    {
     "data": {
      "image/png": "[encoded data removed]",
      "text/plain": [
       "<Figure size 864x432 with 2 Axes>"
      ]
     },
     "metadata": {
      "needs_background": "light"
     },
     "output_type": "display_data"
    }
   ],
   "source": [
    "plot_graphs(LOG, X_test, y_test, \"Logistic Regression\")"
   ]
  },
  {
   "cell_type": "markdown",
   "id": "79f684d1",
   "metadata": {},
   "source": [
    "---"
   ]
  },
  {
   "cell_type": "markdown",
   "id": "05286ee0",
   "metadata": {},
   "source": [
    "## RANDOM FOREST CLASSIFIER"
   ]
  },
  {
   "cell_type": "markdown",
   "id": "88d2e8d9",
   "metadata": {},
   "source": [
    "### Best Parameters"
   ]
  },
  {
   "cell_type": "code",
   "execution_count": 124,
   "id": "cd10a175",
   "metadata": {},
   "outputs": [
    {
     "data": {
      "text/plain": [
       "{'criterion': 'gini', 'n_estimators': 350}"
      ]
     },
     "execution_count": 124,
     "metadata": {},
     "output_type": "execute_result"
    }
   ],
   "source": [
    "\n",
    "rf_params = {\n",
    "    \"n_estimators\" : [100, 150, 200, 250, 300, 350],\n",
    "    \"criterion\" : [\"gini\", \"entropy\"]\n",
    "}\n",
    "rf_grid = GridSearchCV(estimator=RFC, param_grid=rf_params, cv=10, scoring=\"roc_auc\", n_jobs=-1)\n",
    "rf_grid.fit(X_train, y_train)\n",
    "rf_grid.best_params_"
   ]
  },
  {
   "cell_type": "markdown",
   "id": "a26481f3",
   "metadata": {},
   "source": [
    "### Training with best parameters"
   ]
  },
  {
   "cell_type": "code",
   "execution_count": 125,
   "id": "656f6e1b",
   "metadata": {},
   "outputs": [
    {
     "name": "stdout",
     "output_type": "stream",
     "text": [
      "              precision    recall  f1-score   support\n",
      "\n",
      "           0       0.92      0.97      0.94      1073\n",
      "           1       0.27      0.11      0.16       107\n",
      "\n",
      "    accuracy                           0.89      1180\n",
      "   macro avg       0.59      0.54      0.55      1180\n",
      "weighted avg       0.86      0.89      0.87      1180\n",
      "\n"
     ]
    }
   ],
   "source": [
    "RFC = RandomForestClassifier(n_jobs=-1, n_estimators=350)\n",
    "RFC.fit(X_train, y_train)\n",
    "y_hat = RFC.predict(X_test)\n",
    "print(classification_report(y_hat, y_test))"
   ]
  },
  {
   "cell_type": "markdown",
   "id": "e5825f54",
   "metadata": {},
   "source": [
    "### Model Performance"
   ]
  },
  {
   "cell_type": "code",
   "execution_count": 126,
   "id": "1e1228ef",
   "metadata": {},
   "outputs": [
    {
     "data": {
      "image/png": "[encoded data removed]",
      "text/plain": [
       "<Figure size 864x432 with 2 Axes>"
      ]
     },
     "metadata": {
      "needs_background": "light"
     },
     "output_type": "display_data"
    }
   ],
   "source": [
    "plot_graphs(RFC, X_test, y_test, \"Random Forest\")"
   ]
  },
  {
   "cell_type": "markdown",
   "id": "0e30193b",
   "metadata": {},
   "source": [
    "---"
   ]
  },
  {
   "cell_type": "markdown",
   "id": "271d41eb",
   "metadata": {},
   "source": [
    "# SUMMARY"
   ]
  },
  {
   "cell_type": "markdown",
   "id": "d2439837",
   "metadata": {},
   "source": [
    "best performing model is Random Forest"
   ]
  },
  {
   "cell_type": "markdown",
   "id": "254d18e8",
   "metadata": {},
   "source": [
    "| Model Name | ROC/AUC | Accuracy |\n",
    "| :- | :-: | :-: |\n",
    "| K-Neighbors | 0.80 | 0.66 |\n",
    "| Support Vector | 0.82 | 0.74 |\n",
    "| Logistic Regression | 0.78 | 0.78 |\n",
    "| Random Forest | 0.89 | 0.78 |"
   ]
  },
  {
   "cell_type": "markdown",
   "id": "9f5f3309",
   "metadata": {},
   "source": [
    "# SAVE MODEL"
   ]
  },
  {
   "cell_type": "markdown",
   "id": "f9a1bc7e",
   "metadata": {},
   "source": [
    "The model is saved inside the \"Models\" directory"
   ]
  },
  {
   "cell_type": "code",
   "execution_count": 135,
   "id": "c81ff545",
   "metadata": {},
   "outputs": [],
   "source": [
    "import pickle\n",
    "model = RFC\n",
    "file_name = \"final_model.sav\"\n",
    "pickle.dump(model, open(f\"../Models/{file_name}\", 'wb'))"
   ]
  },
  {
   "cell_type": "markdown",
   "id": "bf16cca2",
   "metadata": {},
   "source": [
    "# END"
   ]
  }
 ],
 "metadata": {
  "kernelspec": {
   "display_name": "Python 3",
   "language": "python",
   "name": "python3"
  },
  "language_info": {
   "codemirror_mode": {
    "name": "ipython",
    "version": 3
   },
   "file_extension": ".py",
   "mimetype": "text/x-python",
   "name": "python",
   "nbconvert_exporter": "python",
   "pygments_lexer": "ipython3",
   "version": "3.7.10"
  }
 },
 "nbformat": 4,
 "nbformat_minor": 5
}
